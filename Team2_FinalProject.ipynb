{
 "cells": [
  {
   "cell_type": "code",
   "execution_count": 1,
   "metadata": {},
   "outputs": [],
   "source": [
    "from gym import Env, spaces\n",
    "import numpy as np\n",
    "import random\n",
    "import pandas as pd\n",
    "from sklearn import preprocessing\n",
    "import os    \n",
    "%matplotlib inline\n",
    "import matplotlib\n",
    "import matplotlib.pyplot as plt\n",
    "import torch\n",
    "import keras\n",
    "\n",
    "is_ipython = 'inline' in matplotlib.get_backend()\n",
    "if is_ipython: from IPython import display"
   ]
  },
  {
   "cell_type": "markdown",
   "metadata": {},
   "source": [
    "# Environment"
   ]
  },
  {
   "cell_type": "code",
   "execution_count": 2,
   "metadata": {},
   "outputs": [],
   "source": [
    "class FXEnv_4opt(Env):\n",
    "    #--------------------------------------------------------------------------------\n",
    "    # Initilization\n",
    "    #--------------------------------------------------------------------------------\n",
    "    def __init__(self, df):\n",
    "        self.balance = INITIAL_ACCOUNT_BALANCE\n",
    "        \n",
    "        self.holding = False\n",
    "        self.PL = 0\n",
    "        self.action_type = 0\n",
    "        self.df = df\n",
    "        self.reward_range = (0, MAX_ACCOUNT_BALANCE) \n",
    "        \n",
    "        # initializes the starting location in the data to a valid random location\n",
    "        self.current_step = random.randint(obSpaceDim2-1, len(df)-(MAX_STEPS+1)) \n",
    "        \n",
    "        # actions we can take: action(0 = sell, 1 = wait, 2 = long, 3 = short)\n",
    "        self.action_space = spaces.Discrete(4)\n",
    "        \n",
    "        # observable environment. This is the designated shape the model can observe. \n",
    "        self.observation_space = spaces.Box(low=0, high=1, shape=(obSpaceDim2, obSpaceDim1))\n",
    "    \n",
    "    #--------------------------------------------------------------------------------\n",
    "    # Performs 1 step\n",
    "    #--------------------------------------------------------------------------------\n",
    "    def step(self, action):\n",
    "        \n",
    "        # stop loss\n",
    "        # if loss is higher then 5% of total balance, set the action to sell\n",
    "#         if self.PL <= self.balance*-0.05:\n",
    "#             action = 0     #sell order\n",
    "            \n",
    "        self.profitLoss() # Updates values for current price, losses, and gains\n",
    "        self.sold = 0 # initializes the sale gained from turn to 0 before an action is made\n",
    "        self._take_action(action) # Execute one time step within the environment\n",
    "        self.current_step += 1\n",
    "        self.epLength += 1\n",
    "        if self.epLength >= MAX_STEPS: self.done = True\n",
    "        \n",
    "        \n",
    "        reward = 0 # initilizes reward at 0. This will stay the same if the  proffit/loss = 0\n",
    "        if self.stepPL > 0: reward = 1 + self.sold # if the model has made money in that step, +1. If the model has also sold assets that turn, also +/- that proffit/loss.\n",
    "        elif self.stepPL < 0: reward = -1 + self.sold # if the model has lost money in that step, -1. If the model has also sold assets that turn, also +/- that proffit/loss.\n",
    "            \n",
    "        obs = self._next_observation() # gets the next observation\n",
    "        return obs, reward, self.done, {}\n",
    "    \n",
    "    #--------------------------------------------------------------------------------\n",
    "    # Calculate profit / loss\n",
    "    #--------------------------------------------------------------------------------\n",
    "    def profitLoss(self):\n",
    "        \n",
    "        # sets the previous price to a variable (refrencePrice) before the current price is calculated\n",
    "        if self.long == True: self.refrencePrice=self.longPrice\n",
    "        elif self.long == False: self.refrencePrice=self.shortPrice\n",
    "        \n",
    "        # Set the current price to a random price within the open/close range\n",
    "        currentPrice = random.uniform(\n",
    "            self.df.loc[self.current_step, \"Open\"],\n",
    "            self.df.loc[self.current_step, \"Close\"])\n",
    "        \n",
    "        # in the real world the long price and short price would be slightly diffrent. This can be updated to reflect this.\n",
    "        self.longPrice = currentPrice \n",
    "        self.shortPrice = currentPrice\n",
    "        \n",
    "        # calculates the profit/loss for the step\n",
    "        if self.holding == True:\n",
    "            # if in a long trade...\n",
    "            if self.long == True:\n",
    "                self.stepPL = (currentPrice-self.refrencePrice) * self.holding_amount\n",
    "                self.PL = (currentPrice-self.buyPrice) * self.holding_amount\n",
    "            \n",
    "            # if in a short trade...\n",
    "            elif self.long == False:\n",
    "                self.stepPL = (currentPrice-self.refrencePrice) * -self.holding_amount\n",
    "                self.PL = (currentPrice-self.buyPrice) * -self.holding_amount\n",
    "        \n",
    "        # if not in a trade no profit/loss was made\n",
    "        else:\n",
    "            self.PL = 0\n",
    "            self.stepPL = 0\n",
    "    \n",
    "    #--------------------------------------------------------------------------------\n",
    "    # Specifics of the actions that can be performed in each step\n",
    "    #--------------------------------------------------------------------------------\n",
    "    def _take_action(self, action):\n",
    "        self.action_type = action\n",
    "        \n",
    "        # calculates the maximum number of units that can be purchased given the current account balance\n",
    "        margin_multiplier = 0.02\n",
    "        margin_avail = self.balance\n",
    "        self.units_avalable = margin_avail/margin_multiplier\n",
    "        \n",
    "        # sets the quantity that can be purchased to 20% of the maxumum units avalable given the balance\n",
    "        amount = int(self.units_avalable * 0.2)      \n",
    "        \n",
    "        # Sell block\n",
    "        if self.action_type == 0:\n",
    "            if self.holding == False: pass\n",
    "            elif self.holding == True:\n",
    "                self.realizedPL += self.PL\n",
    "                self.sold = self.PL\n",
    "                self.balance = INITIAL_ACCOUNT_BALANCE + self.realizedPL\n",
    "                self.holding_amount = 0\n",
    "                self.holding = False\n",
    "                self.done = True # concludes the episode\n",
    "                \n",
    "        # Wait block (Do nothing)        \n",
    "        elif self.action_type == 1:\n",
    "            pass\n",
    "        \n",
    "        # Long Order Block\n",
    "        elif self.action_type == 2:\n",
    "            if self.holding == True: pass\n",
    "            elif self.holding == False:\n",
    "                self.buyPrice = self.longPrice\n",
    "                self.holding_amount = amount\n",
    "                self.holding = True\n",
    "                self.long = True\n",
    "                \n",
    "        # Short Order Block\n",
    "        elif self.action_type == 3:\n",
    "            if self.holding == True: pass\n",
    "            elif self.holding == False:\n",
    "                self.buyPrice = self.shortPrice\n",
    "                self.holding_amount = amount\n",
    "                self.holding = True\n",
    "                self.long = False        \n",
    "    \n",
    "    #--------------------------------------------------------------------------------\n",
    "    # Resets the environment\n",
    "    #--------------------------------------------------------------------------------\n",
    "    def reset(self):\n",
    "        # Reset the state of the environment to an initial state\n",
    "        self.epLength = 0\n",
    "        self.balance = INITIAL_ACCOUNT_BALANCE\n",
    "        self.holding_amount = 0\n",
    "        self.holding = False\n",
    "        self.realizedPL = 0\n",
    "        self.PL = 0\n",
    "        self.stepPL = 0\n",
    "        self.long = True\n",
    "        self.longPrice = 0\n",
    "        self.shortPrice = 0\n",
    "        self.done = False\n",
    "\n",
    "        # Set the current step to a random point within the data frame\n",
    "        self.current_step = random.randint(obSpaceDim2-1, len(df)-(MAX_STEPS+1))\n",
    "        return self._next_observation()\n",
    "    \n",
    "    #--------------------------------------------------------------------------------\n",
    "    # Grabs the next frame worth of data consiting of a given number of rows of data (obSpaceDim2)\n",
    "    #--------------------------------------------------------------------------------\n",
    "    def _next_observation(self):\n",
    "        obs = self.df.loc[self.current_step-(obSpaceDim2-1): self.current_step].values\n",
    "        return obs\n",
    "    \n",
    "    #--------------------------------------------------------------------------------\n",
    "    # Renders a graph durring training\n",
    "    #--------------------------------------------------------------------------------\n",
    "    def render(self, mode='human', close=False):\n",
    "        if self.done:\n",
    "            profit.append(self.realizedPL)\n",
    "            plot(profit, 100) # plot to screen"
   ]
  },
  {
   "cell_type": "markdown",
   "metadata": {},
   "source": [
    "# Visualization Plot"
   ]
  },
  {
   "cell_type": "code",
   "execution_count": 3,
   "metadata": {},
   "outputs": [],
   "source": [
    "# plots the profit of each episode and 100 episode moving average \n",
    "def plot(values, moving_avg_period):\n",
    "    plt.figure(2)\n",
    "    plt.clf()\n",
    "    plt.title('Training...')\n",
    "    plt.xlabel('Episode')\n",
    "    plt.ylabel('Profit')\n",
    "    plt.plot(values)\n",
    "    plt.plot(np.zeros(len(values)), color = 'black')\n",
    "    \n",
    "    moving_avg = get_moving_average(moving_avg_period, values)\n",
    "    plt.plot(moving_avg)\n",
    "    plt.pause(0.001)\n",
    "    print(\"Episode \", len(values), '\\n', moving_avg_period, 'episode moving avg: ', moving_avg[-1])\n",
    "    if is_ipython: display.clear_output(wait=True)\n",
    "        \n",
    "def get_moving_average(period, values):\n",
    "    values = torch.tensor(values, dtype=torch.float)\n",
    "    if len (values) >= period:\n",
    "        moving_avg = values.unfold(dimension = 0, size = period, step = 1) .mean(dim=1) .flatten(start_dim=0)\n",
    "        moving_avg = torch.cat((torch.zeros(period-1), moving_avg))\n",
    "        return moving_avg.numpy()\n",
    "    else:\n",
    "        moving_avg = torch.zeros(len(values))\n",
    "        return moving_avg.numpy()"
   ]
  },
  {
   "cell_type": "markdown",
   "metadata": {},
   "source": [
    "# Data Setup"
   ]
  },
  {
   "cell_type": "code",
   "execution_count": 4,
   "metadata": {},
   "outputs": [],
   "source": [
    "df = pd.read_csv('data/EUR_USD_H1.csv') # reads in real data\n",
    "df = pd.read_csv('data/sineWave_dummyData.csv') # reads in dummy data\n",
    "\n",
    "# sets the dimensions of observation space\n",
    "obSpaceDim1 = df.shape[1] # columns in df\n",
    "obSpaceDim2 = 10 # number of rows the model should see at once\n",
    "\n",
    "MAX_ACCOUNT_BALANCE = 1000000\n",
    "INITIAL_ACCOUNT_BALANCE = 5000\n",
    "MAX_STEPS = 200\n",
    "WINDOW_LENGTH = 1\n",
    "\n",
    "env = FXEnv_4opt(df)"
   ]
  },
  {
   "cell_type": "markdown",
   "metadata": {},
   "source": [
    "# Test Environment"
   ]
  },
  {
   "cell_type": "code",
   "execution_count": 5,
   "metadata": {},
   "outputs": [
    {
     "name": "stdout",
     "output_type": "stream",
     "text": [
      "Epesode: 1 Score: -50.33197868129302\n",
      "Epesode: 2 Score: 282.8184450317118\n",
      "Epesode: 3 Score: -0.07330468606570051\n",
      "Epesode: 4 Score: 32.28718108680317\n",
      "Epesode: 5 Score: 10.362437143500824\n",
      "Epesode: 6 Score: -6.202679066562688\n",
      "Epesode: 7 Score: -6.617260589008133\n",
      "Epesode: 8 Score: 34.37458000024951\n",
      "Epesode: 9 Score: -27.171620499548798\n",
      "Epesode: 10 Score: 11.216795014643786\n"
     ]
    }
   ],
   "source": [
    "episodes = 10\n",
    "for episode in range(episodes):\n",
    "    env.reset()\n",
    "    done = False\n",
    "    score = 0\n",
    "    \n",
    "    while not done:\n",
    "        #env.render()\n",
    "        action = env.action_space.sample()\n",
    "        obs, reward, done, extra = env.step(action)\n",
    "        score += reward\n",
    "    print(\"Epesode: {} Score: {}\".format(episode+1, score))"
   ]
  },
  {
   "cell_type": "markdown",
   "metadata": {},
   "source": [
    "# Keras Imports"
   ]
  },
  {
   "cell_type": "code",
   "execution_count": 6,
   "metadata": {},
   "outputs": [],
   "source": [
    "from tensorflow.keras.models import Sequential\n",
    "from tensorflow.keras.layers import Dense, Activation, Flatten, Conv1D, Conv2D, LSTM, Dropout\n",
    "from tensorflow.keras.optimizers import Adam\n",
    "\n",
    "from rl.agents.dqn import DQNAgent\n",
    "from rl.agents.cem import CEMAgent\n",
    "\n",
    "from rl.policy import BoltzmannQPolicy, EpsGreedyQPolicy\n",
    "from rl.memory import SequentialMemory, EpisodeParameterMemory"
   ]
  },
  {
   "cell_type": "markdown",
   "metadata": {},
   "source": [
    "# Neural Network"
   ]
  },
  {
   "cell_type": "code",
   "execution_count": 7,
   "metadata": {},
   "outputs": [],
   "source": [
    "nb_actions = env.action_space.n"
   ]
  },
  {
   "cell_type": "markdown",
   "metadata": {},
   "source": [
    "### Dense Neural Network"
   ]
  },
  {
   "cell_type": "code",
   "execution_count": 8,
   "metadata": {},
   "outputs": [
    {
     "name": "stdout",
     "output_type": "stream",
     "text": [
      "Model: \"sequential\"\n",
      "_________________________________________________________________\n",
      "Layer (type)                 Output Shape              Param #   \n",
      "=================================================================\n",
      "flatten (Flatten)            (None, 50)                0         \n",
      "_________________________________________________________________\n",
      "dense (Dense)                (None, 64)                3264      \n",
      "_________________________________________________________________\n",
      "dense_1 (Dense)              (None, 32)                2080      \n",
      "_________________________________________________________________\n",
      "dense_2 (Dense)              (None, 16)                528       \n",
      "_________________________________________________________________\n",
      "dense_3 (Dense)              (None, 4)                 68        \n",
      "=================================================================\n",
      "Total params: 5,940\n",
      "Trainable params: 5,940\n",
      "Non-trainable params: 0\n",
      "_________________________________________________________________\n",
      "None\n",
      "('Failed to import pydot. You must `pip install pydot` and install graphviz (https://graphviz.gitlab.io/download/), ', 'for `pydotprint` to work.')\n"
     ]
    }
   ],
   "source": [
    "DNNmodel = Sequential()\n",
    "DNNmodel.add(Flatten(input_shape=(WINDOW_LENGTH,) + env.observation_space.shape))\n",
    "DNNmodel.add(Dense(64, activation='relu'))\n",
    "DNNmodel.add(Dense(32, activation='relu'))\n",
    "DNNmodel.add(Dense(16, activation='relu'))\n",
    "DNNmodel.add(Dense(nb_actions, activation='linear'))\n",
    "print(DNNmodel.summary())\n",
    "keras.utils.plot_model(DNNmodel, \"DNNmodel.png\", show_shapes=True)"
   ]
  },
  {
   "cell_type": "markdown",
   "metadata": {},
   "source": [
    "### 1D Convolutional Neural Network"
   ]
  },
  {
   "cell_type": "code",
   "execution_count": 9,
   "metadata": {},
   "outputs": [
    {
     "name": "stdout",
     "output_type": "stream",
     "text": [
      "Model: \"sequential_1\"\n",
      "_________________________________________________________________\n",
      "Layer (type)                 Output Shape              Param #   \n",
      "=================================================================\n",
      "conv1d (Conv1D)              (None, 1, 8, 32)          512       \n",
      "_________________________________________________________________\n",
      "dense_4 (Dense)              (None, 1, 8, 32)          1056      \n",
      "_________________________________________________________________\n",
      "flatten_1 (Flatten)          (None, 256)               0         \n",
      "_________________________________________________________________\n",
      "dense_5 (Dense)              (None, 4)                 1028      \n",
      "=================================================================\n",
      "Total params: 2,596\n",
      "Trainable params: 2,596\n",
      "Non-trainable params: 0\n",
      "_________________________________________________________________\n",
      "None\n",
      "('Failed to import pydot. You must `pip install pydot` and install graphviz (https://graphviz.gitlab.io/download/), ', 'for `pydotprint` to work.')\n"
     ]
    }
   ],
   "source": [
    "CNNmodel = Sequential()\n",
    "CNNmodel.add(Conv1D(filters=32,kernel_size=3, activation='relu', input_shape=(1,) + env.observation_space.shape))\n",
    "CNNmodel.add(Dense(units =32, activation='relu'))\n",
    "CNNmodel.add(Flatten())\n",
    "CNNmodel.add(Dense(units=nb_actions))\n",
    "print(CNNmodel.summary())\n",
    "keras.utils.plot_model(CNNmodel, \"CNNmodel.png\", show_shapes=True)"
   ]
  },
  {
   "cell_type": "markdown",
   "metadata": {},
   "source": [
    "### 2D Convolutional Neural Network"
   ]
  },
  {
   "cell_type": "code",
   "execution_count": 10,
   "metadata": {},
   "outputs": [
    {
     "name": "stdout",
     "output_type": "stream",
     "text": [
      "Model: \"sequential_2\"\n",
      "_________________________________________________________________\n",
      "Layer (type)                 Output Shape              Param #   \n",
      "=================================================================\n",
      "conv2d (Conv2D)              (None, 1, 2, 64)          384       \n",
      "_________________________________________________________________\n",
      "conv2d_1 (Conv2D)            (None, 1, 1, 64)          4160      \n",
      "_________________________________________________________________\n",
      "conv2d_2 (Conv2D)            (None, 1, 1, 64)          4160      \n",
      "_________________________________________________________________\n",
      "flatten_2 (Flatten)          (None, 64)                0         \n",
      "_________________________________________________________________\n",
      "dense_6 (Dense)              (None, 512)               33280     \n",
      "_________________________________________________________________\n",
      "dense_7 (Dense)              (None, 256)               131328    \n",
      "_________________________________________________________________\n",
      "dense_8 (Dense)              (None, 64)                16448     \n",
      "_________________________________________________________________\n",
      "dense_9 (Dense)              (None, 4)                 260       \n",
      "=================================================================\n",
      "Total params: 190,020\n",
      "Trainable params: 190,020\n",
      "Non-trainable params: 0\n",
      "_________________________________________________________________\n",
      "None\n",
      "('Failed to import pydot. You must `pip install pydot` and install graphviz (https://graphviz.gitlab.io/download/), ', 'for `pydotprint` to work.')\n"
     ]
    }
   ],
   "source": [
    "CNNmodel2 = Sequential()\n",
    "CNNmodel2.add(Conv2D(64, 1, strides=(6, 6),padding=\"valid\", activation='relu', input_shape=(1,) + env.observation_space.shape))\n",
    "CNNmodel2.add(Conv2D(64, 1, strides=(3, 3),padding=\"valid\", activation=\"relu\"))\n",
    "CNNmodel2.add(Conv2D(64, 1, strides=(1, 1),padding=\"valid\", activation=\"relu\"))\n",
    "CNNmodel2.add(Flatten())\n",
    "CNNmodel2.add(Dense(512, activation=\"relu\"))\n",
    "CNNmodel2.add(Dense(256, activation=\"relu\"))\n",
    "CNNmodel2.add(Dense(64, activation=\"relu\"))\n",
    "CNNmodel2.add(Dense(units=nb_actions, activation='linear'))\n",
    "print(CNNmodel2.summary())\n",
    "keras.utils.plot_model(CNNmodel2, \"CNNmodel2.png\", show_shapes=True)"
   ]
  },
  {
   "cell_type": "markdown",
   "metadata": {},
   "source": [
    "### LSTM"
   ]
  },
  {
   "cell_type": "code",
   "execution_count": 11,
   "metadata": {},
   "outputs": [
    {
     "name": "stdout",
     "output_type": "stream",
     "text": [
      "Model: \"sequential_3\"\n",
      "_________________________________________________________________\n",
      "Layer (type)                 Output Shape              Param #   \n",
      "=================================================================\n",
      "lstm (LSTM)                  (None, 10, 64)            17920     \n",
      "_________________________________________________________________\n",
      "lstm_1 (LSTM)                (None, 10, 64)            33024     \n",
      "_________________________________________________________________\n",
      "lstm_2 (LSTM)                (None, 64)                33024     \n",
      "_________________________________________________________________\n",
      "dropout (Dropout)            (None, 64)                0         \n",
      "_________________________________________________________________\n",
      "dense_10 (Dense)             (None, 32)                2080      \n",
      "_________________________________________________________________\n",
      "activation (Activation)      (None, 32)                0         \n",
      "_________________________________________________________________\n",
      "dense_11 (Dense)             (None, 4)                 132       \n",
      "_________________________________________________________________\n",
      "activation_1 (Activation)    (None, 4)                 0         \n",
      "=================================================================\n",
      "Total params: 86,180\n",
      "Trainable params: 86,180\n",
      "Non-trainable params: 0\n",
      "_________________________________________________________________\n",
      "None\n"
     ]
    }
   ],
   "source": [
    "LSTMmodel = Sequential()\n",
    "LSTMmodel.add(LSTM(64, input_shape=env.observation_space.shape, return_sequences=True))\n",
    "LSTMmodel.add(LSTM(64, return_sequences = True))\n",
    "LSTMmodel.add(LSTM(64))\n",
    "LSTMmodel.add(Dropout(0.2))\n",
    "LSTMmodel.add(Dense(32))\n",
    "LSTMmodel.add(Activation('relu'))\n",
    "LSTMmodel.add(Dense(nb_actions))\n",
    "LSTMmodel.add(Activation('linear'))\n",
    "print(LSTMmodel.summary())"
   ]
  },
  {
   "cell_type": "code",
   "execution_count": 12,
   "metadata": {},
   "outputs": [],
   "source": [
    "# acts as a coupling mechanism between the agent and the environment\n",
    "# Given a state batch, This removes the second dimension\n",
    "# Needed for LSTM\n",
    "from rl.core import Processor\n",
    "class CustomProcessor(Processor):\n",
    "    def process_state_batch(self, batch):\n",
    "        return np.squeeze(batch, axis=1)\n",
    "\n",
    "processor = CustomProcessor()"
   ]
  },
  {
   "cell_type": "markdown",
   "metadata": {},
   "source": [
    "# DQN"
   ]
  },
  {
   "cell_type": "code",
   "execution_count": 13,
   "metadata": {},
   "outputs": [],
   "source": [
    "memory = SequentialMemory(limit=50000, window_length=WINDOW_LENGTH)\n",
    "policy = EpsGreedyQPolicy()\n",
    "dqn = DQNAgent(model=DNNmodel, nb_actions=nb_actions, memory=memory, nb_steps_warmup=200,\n",
    "               target_model_update=1e-2, policy=policy, enable_dueling_network=False, dueling_type='avg')\n",
    "dqn.compile(Adam(lr=1e-3), metrics=['mae']) "
   ]
  },
  {
   "cell_type": "code",
   "execution_count": 14,
   "metadata": {},
   "outputs": [],
   "source": [
    "# '''\n",
    "# LSTM DQN\n",
    "# '''\n",
    "# memory = SequentialMemory(limit=50000, window_length=1)\n",
    "# policy = BoltzmannQPolicy()\n",
    "# dqn = DQNAgent(model=LSTMmodel, nb_actions=nb_actions, memory=memory, nb_steps_warmup=500,\n",
    "# target_model_update=1e-2, policy=policy, processor = processor)\n",
    "# dqn.compile(Adam(lr=1e-4), metrics=['mae'])"
   ]
  },
  {
   "cell_type": "code",
   "execution_count": 15,
   "metadata": {},
   "outputs": [
    {
     "name": "stdout",
     "output_type": "stream",
     "text": [
      " 49918/50000: episode: 1374, duration: 0.356s, episode steps:  22, steps per second:  62, episode reward: -45.878, mean reward: -2.085 [-46.878,  1.000], mean action: 1.455 [0.000, 3.000],  loss: 592.450989, mae: 45.832180, mean_q: 76.175003\n",
      "done, took 446.985 seconds\n",
      "Done!\n"
     ]
    },
    {
     "data": {
      "image/png": "[encoded data removed]",
      "text/plain": [
       "<Figure size 432x288 with 1 Axes>"
      ]
     },
     "metadata": {
      "needs_background": "light"
     },
     "output_type": "display_data"
    },
    {
     "name": "stdout",
     "output_type": "stream",
     "text": [
      "Episode  1374 \n",
      " 100 episode moving avg:  -56.954117\n"
     ]
    }
   ],
   "source": [
    "profit=[]\n",
    "history = dqn.fit(env, nb_steps=50000, visualize=True, verbose=2)\n",
    "print('Done!')\n",
    "plot(profit, 100)"
   ]
  },
  {
   "cell_type": "code",
   "execution_count": 16,
   "metadata": {},
   "outputs": [
    {
     "data": {
      "image/png": "[encoded data removed]",
      "text/plain": [
       "<Figure size 504x360 with 1 Axes>"
      ]
     },
     "metadata": {
      "needs_background": "light"
     },
     "output_type": "display_data"
    }
   ],
   "source": [
    "pd.DataFrame(history.history)[[\"episode_reward\", \"nb_episode_steps\"]].plot(figsize=(7,5));"
   ]
  },
  {
   "cell_type": "code",
   "execution_count": 17,
   "metadata": {},
   "outputs": [
    {
     "name": "stdout",
     "output_type": "stream",
     "text": [
      "saved\n"
     ]
    }
   ],
   "source": [
    "# After training is done, we save the final weights.\n",
    "dqn.save_weights('saves/dqn_FXenv_weights.h5f', overwrite=True)\n",
    "print('saved')"
   ]
  },
  {
   "cell_type": "code",
   "execution_count": 18,
   "metadata": {},
   "outputs": [
    {
     "name": "stdout",
     "output_type": "stream",
     "text": [
      "Testing for 5 episodes ...\n",
      "Episode 1: reward: 370.849, steps: 113\n",
      "Episode 2: reward: 19.000, steps: 200\n",
      "Episode 3: reward: 407.028, steps: 49\n",
      "Episode 4: reward: -263.458, steps: 166\n",
      "Episode 5: reward: -102.845, steps: 90\n"
     ]
    },
    {
     "data": {
      "text/plain": [
       "<tensorflow.python.keras.callbacks.History at 0x1f2a9821248>"
      ]
     },
     "execution_count": 18,
     "metadata": {},
     "output_type": "execute_result"
    }
   ],
   "source": [
    "# Finally, evaluate our algorithm for 5 episodes.\n",
    "dqn.test(env, nb_episodes=5, visualize=False)"
   ]
  }
 ],
 "metadata": {
  "kernelspec": {
   "display_name": "py37_env",
   "language": "python",
   "name": "py37_env"
  },
  "language_info": {
   "codemirror_mode": {
    "name": "ipython",
    "version": 3
   },
   "file_extension": ".py",
   "mimetype": "text/x-python",
   "name": "python",
   "nbconvert_exporter": "python",
   "pygments_lexer": "ipython3",
   "version": "3.7.9"
  }
 },
 "nbformat": 4,
 "nbformat_minor": 4
}
